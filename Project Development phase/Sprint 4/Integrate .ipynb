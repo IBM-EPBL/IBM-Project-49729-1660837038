{
 "cells": [
  {
   "cell_type": "markdown",
   "id": "c035fdf3",
   "metadata": {},
   "source": [
    "### INTEGRATING FLASK WITH IBM CLOUD"
   ]
  },
  {
   "cell_type": "markdown",
   "id": "d9c546cc",
   "metadata": {},
   "source": [
    "from flask import Flask, request, render_template\n",
    "import numpy as np\n",
    "import pandas as pd\n",
    "from sklearn import metrics\n",
    "import warnings \n",
    "import pickle\n",
    "import requests \n",
    "warnings.filterwarnings('ignore') \n",
    "from feature import FeatureExtraction \n",
    "file = open(\"model.pkl\",\"rb\") \n",
    "gbc = pickle.load(file) \n",
    "file.close() # NOTE: you must manually set API_KEY below using information retrieved from your IBM Cloud account.\n",
    "API_KEY = \"cWGD5yTjEpEGtqPpvHPDBElN5eXFS7eh2JRDyUWhySMW\" \n",
    "token_response = requests.post('https://iam.cloud.ibm.com/identity/token', data={\"apikey\": \n",
    "API_KEY,\"grant_type\": 'urn:ibm:params:oauth:grant-type:apikey'})\n",
    "mltoken = token_response.json()[\"access_token\"] \n",
    "header = {'Content-Type': 'application/json', 'Authorization': 'Bearer ' + mltoken}\n",
    "app = Flask(__name__)\n",
    "@app.route(\"/\", methods=[\"GET\", \"POST\"])\n",
    "def index():\n",
    "    if request.method == \"POST\":\n",
    "        url = request.form[\"url\"] \n",
    "        obj = FeatureExtraction(url) \n",
    "        x = np.array(obj.getFeaturesList()).reshape(1,30) \n",
    "        y_pred =gbc.predict(x)[0] #1 is safe \n",
    "        #-1 is unsafe\n",
    "        y_pro_phishing = gbc.predict_proba(x)[0,0] \n",
    "        y_pro_non_phishing = gbc.predict_proba(x)[0,1] \n",
    "        # if(y_pred ==1 ):\n",
    "        pred = \"It is {0:.2f} % safe to go \".format(y_pro_phishing*100)\n",
    "        payload_scoring = {\"input_data\": [{\"field\": [[\"UsingIP\",\"LongURL\",\"ShortURL\",\"Symbol@\",\"Redirecting//\",\"PrefixSuffix-\",\"SubDomains\",\"HTTPS\",\"DomainRegLen\",\"Favicon\",\"NonStdPort\",\"HTTPSDomainURL\",\"RequestURL\",\"AnchorURL\",\"LinksInScriptTags\",\"ServerFormHandler\",\"InfoEmail\",\"AbnormalURL\",\"WebsiteForwarding\",\"StatusBarCust\",\"DisableRightClick\",\"UsingPopupWindow\",\"IframeRedirection\",\"AgeofDomain\",\"DNSRecording\",\"WebsiteTraffic\",\"PageRank\",\"GoogleIndex\",\"LinksPointingToPage\",\"StatsReport\" ]],\n",
    "                                           \"values\": [[1,1,1,1,1,-1,-1,-1,-1,1,1,1,1,-1,-1,1,1,1,0,1,1,1,1,-1,-1,-1,-1,1,0,1]]}]}\n",
    "        response_scoring = requests.post('https://us-south.ml.cloud.ibm.com/ml/v4/deployments/084b5c52-f617-40ef-a0e8-3e6cf79ae447/predictions?version=2022-11-06', json=payload_scoring, \n",
    "                                         headers={'Authorization': 'Bearer ' + mltoken}) \n",
    "        #print(predictions)\n",
    "        pred=print(predictions['predictions'][0]['values'][0][0])\n",
    "        return render_template('index.html',xx =round(y_pro_non_phishing,2),url=url )\n",
    "    return render_template(\"index.html\", xx =-1)\n",
    "    \n",
    "\n",
    "if __name__ == \"__main__\":\n",
    "    app.run(debug=True,port=2020)\n"
   ]
  },
  {
   "cell_type": "code",
   "execution_count": null,
   "id": "1d0e65aa",
   "metadata": {},
   "outputs": [],
   "source": []
  },
  {
   "cell_type": "code",
   "execution_count": null,
   "id": "2ac01f56",
   "metadata": {},
   "outputs": [],
   "source": []
  }
 ],
 "metadata": {
  "kernelspec": {
   "display_name": "Python 3 (ipykernel)",
   "language": "python",
   "name": "python3"
  },
  "language_info": {
   "codemirror_mode": {
    "name": "ipython",
    "version": 3
   },
   "file_extension": ".py",
   "mimetype": "text/x-python",
   "name": "python",
   "nbconvert_exporter": "python",
   "pygments_lexer": "ipython3",
   "version": "3.9.12"
  }
 },
 "nbformat": 4,
 "nbformat_minor": 5
}
